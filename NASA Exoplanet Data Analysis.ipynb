{
 "cells": [
  {
   "cell_type": "code",
   "execution_count": 1,
   "id": "c5e6f04c",
   "metadata": {},
   "outputs": [],
   "source": [
    "import numpy as np # linear algebra\n",
    "import pandas as pd # data processing, CSV file I/O (e.g. pd.read_csv)"
   ]
  },
  {
   "cell_type": "code",
   "execution_count": 2,
   "id": "ca93bf6d",
   "metadata": {},
   "outputs": [],
   "source": [
    "import os\n",
    "for dirname, _, filenames in os.walk('/kaggle/input'):\n",
    "    for filename in filenames:\n",
    "        print(os.path.join(dirname, filename))"
   ]
  },
  {
   "cell_type": "code",
   "execution_count": 3,
   "id": "42f102b0",
   "metadata": {},
   "outputs": [
    {
     "name": "stderr",
     "output_type": "stream",
     "text": [
      "C:\\Users\\Bindu\\AppData\\Local\\Temp\\ipykernel_13368\\141189687.py:1: DtypeWarning: Columns (4,5) have mixed types. Specify dtype option on import or set low_memory=False.\n",
      "  data = pd.read_csv(r\"C:\\Users\\Bindu\\Downloads\\archive (12)\\NASA_Exoplanet_Planetary.csv\")\n"
     ]
    }
   ],
   "source": [
    "data = pd.read_csv(r\"C:\\Users\\Bindu\\Downloads\\archive (12)\\NASA_Exoplanet_Planetary.csv\")"
   ]
  },
  {
   "cell_type": "code",
   "execution_count": 4,
   "id": "9c72f980",
   "metadata": {},
   "outputs": [
    {
     "name": "stdout",
     "output_type": "stream",
     "text": [
      "<class 'pandas.core.frame.DataFrame'>\n",
      "RangeIndex: 34951 entries, 0 to 34950\n",
      "Columns: 287 entries, rowid to pl_ntranspec\n",
      "dtypes: float64(235), int64(25), object(27)\n",
      "memory usage: 76.5+ MB\n"
     ]
    }
   ],
   "source": [
    "data.info()"
   ]
  },
  {
   "cell_type": "code",
   "execution_count": 5,
   "id": "01a88b59",
   "metadata": {},
   "outputs": [
    {
     "data": {
      "text/html": [
       "<div>\n",
       "<style scoped>\n",
       "    .dataframe tbody tr th:only-of-type {\n",
       "        vertical-align: middle;\n",
       "    }\n",
       "\n",
       "    .dataframe tbody tr th {\n",
       "        vertical-align: top;\n",
       "    }\n",
       "\n",
       "    .dataframe thead th {\n",
       "        text-align: right;\n",
       "    }\n",
       "</style>\n",
       "<table border=\"1\" class=\"dataframe\">\n",
       "  <thead>\n",
       "    <tr style=\"text-align: right;\">\n",
       "      <th></th>\n",
       "      <th>rowid</th>\n",
       "      <th>pl_name</th>\n",
       "      <th>hostname</th>\n",
       "      <th>pl_letter</th>\n",
       "      <th>hd_name</th>\n",
       "      <th>hip_name</th>\n",
       "      <th>tic_id</th>\n",
       "      <th>gaia_id</th>\n",
       "      <th>default_flag</th>\n",
       "      <th>sy_snum</th>\n",
       "      <th>...</th>\n",
       "      <th>sy_kepmagerr2</th>\n",
       "      <th>rowupdate</th>\n",
       "      <th>pl_pubdate</th>\n",
       "      <th>releasedate</th>\n",
       "      <th>pl_nnotes</th>\n",
       "      <th>st_nphot</th>\n",
       "      <th>st_nrvc</th>\n",
       "      <th>st_nspec</th>\n",
       "      <th>pl_nespec</th>\n",
       "      <th>pl_ntranspec</th>\n",
       "    </tr>\n",
       "  </thead>\n",
       "  <tbody>\n",
       "    <tr>\n",
       "      <th>0</th>\n",
       "      <td>1</td>\n",
       "      <td>11 Com b</td>\n",
       "      <td>11 Com</td>\n",
       "      <td>b</td>\n",
       "      <td>HD 107383</td>\n",
       "      <td>HIP 60202</td>\n",
       "      <td>TIC 72437047</td>\n",
       "      <td>Gaia DR2 3946945413106333696</td>\n",
       "      <td>0</td>\n",
       "      <td>2</td>\n",
       "      <td>...</td>\n",
       "      <td>NaN</td>\n",
       "      <td>23-07-2014</td>\n",
       "      <td>2011-08</td>\n",
       "      <td>23-07-2014</td>\n",
       "      <td>2</td>\n",
       "      <td>1</td>\n",
       "      <td>2</td>\n",
       "      <td>0</td>\n",
       "      <td>0</td>\n",
       "      <td>0</td>\n",
       "    </tr>\n",
       "    <tr>\n",
       "      <th>1</th>\n",
       "      <td>2</td>\n",
       "      <td>11 Com b</td>\n",
       "      <td>11 Com</td>\n",
       "      <td>b</td>\n",
       "      <td>HD 107383</td>\n",
       "      <td>HIP 60202</td>\n",
       "      <td>TIC 72437047</td>\n",
       "      <td>Gaia DR2 3946945413106333696</td>\n",
       "      <td>1</td>\n",
       "      <td>2</td>\n",
       "      <td>...</td>\n",
       "      <td>NaN</td>\n",
       "      <td>14-05-2014</td>\n",
       "      <td>2008-01</td>\n",
       "      <td>14-05-2014</td>\n",
       "      <td>2</td>\n",
       "      <td>1</td>\n",
       "      <td>2</td>\n",
       "      <td>0</td>\n",
       "      <td>0</td>\n",
       "      <td>0</td>\n",
       "    </tr>\n",
       "    <tr>\n",
       "      <th>2</th>\n",
       "      <td>3</td>\n",
       "      <td>11 UMi b</td>\n",
       "      <td>11 UMi</td>\n",
       "      <td>b</td>\n",
       "      <td>HD 136726</td>\n",
       "      <td>HIP 74793</td>\n",
       "      <td>TIC 230061010</td>\n",
       "      <td>Gaia DR2 1696798367260229376</td>\n",
       "      <td>0</td>\n",
       "      <td>1</td>\n",
       "      <td>...</td>\n",
       "      <td>NaN</td>\n",
       "      <td>25-04-2018</td>\n",
       "      <td>2011-08</td>\n",
       "      <td>23-07-2014</td>\n",
       "      <td>0</td>\n",
       "      <td>1</td>\n",
       "      <td>1</td>\n",
       "      <td>0</td>\n",
       "      <td>0</td>\n",
       "      <td>0</td>\n",
       "    </tr>\n",
       "    <tr>\n",
       "      <th>3</th>\n",
       "      <td>4</td>\n",
       "      <td>11 UMi b</td>\n",
       "      <td>11 UMi</td>\n",
       "      <td>b</td>\n",
       "      <td>HD 136726</td>\n",
       "      <td>HIP 74793</td>\n",
       "      <td>TIC 230061010</td>\n",
       "      <td>Gaia DR2 1696798367260229376</td>\n",
       "      <td>1</td>\n",
       "      <td>1</td>\n",
       "      <td>...</td>\n",
       "      <td>NaN</td>\n",
       "      <td>04-09-2018</td>\n",
       "      <td>2017-03</td>\n",
       "      <td>06-09-2018</td>\n",
       "      <td>0</td>\n",
       "      <td>1</td>\n",
       "      <td>1</td>\n",
       "      <td>0</td>\n",
       "      <td>0</td>\n",
       "      <td>0</td>\n",
       "    </tr>\n",
       "    <tr>\n",
       "      <th>4</th>\n",
       "      <td>5</td>\n",
       "      <td>11 UMi b</td>\n",
       "      <td>11 UMi</td>\n",
       "      <td>b</td>\n",
       "      <td>HD 136726</td>\n",
       "      <td>HIP 74793</td>\n",
       "      <td>TIC 230061010</td>\n",
       "      <td>Gaia DR2 1696798367260229376</td>\n",
       "      <td>0</td>\n",
       "      <td>1</td>\n",
       "      <td>...</td>\n",
       "      <td>NaN</td>\n",
       "      <td>25-04-2018</td>\n",
       "      <td>2009-10</td>\n",
       "      <td>14-05-2014</td>\n",
       "      <td>0</td>\n",
       "      <td>1</td>\n",
       "      <td>1</td>\n",
       "      <td>0</td>\n",
       "      <td>0</td>\n",
       "      <td>0</td>\n",
       "    </tr>\n",
       "  </tbody>\n",
       "</table>\n",
       "<p>5 rows × 287 columns</p>\n",
       "</div>"
      ],
      "text/plain": [
       "   rowid   pl_name hostname pl_letter    hd_name   hip_name         tic_id  \\\n",
       "0      1  11 Com b   11 Com         b  HD 107383  HIP 60202   TIC 72437047   \n",
       "1      2  11 Com b   11 Com         b  HD 107383  HIP 60202   TIC 72437047   \n",
       "2      3  11 UMi b   11 UMi         b  HD 136726  HIP 74793  TIC 230061010   \n",
       "3      4  11 UMi b   11 UMi         b  HD 136726  HIP 74793  TIC 230061010   \n",
       "4      5  11 UMi b   11 UMi         b  HD 136726  HIP 74793  TIC 230061010   \n",
       "\n",
       "                        gaia_id  default_flag  sy_snum  ...  sy_kepmagerr2  \\\n",
       "0  Gaia DR2 3946945413106333696             0        2  ...            NaN   \n",
       "1  Gaia DR2 3946945413106333696             1        2  ...            NaN   \n",
       "2  Gaia DR2 1696798367260229376             0        1  ...            NaN   \n",
       "3  Gaia DR2 1696798367260229376             1        1  ...            NaN   \n",
       "4  Gaia DR2 1696798367260229376             0        1  ...            NaN   \n",
       "\n",
       "    rowupdate  pl_pubdate releasedate  pl_nnotes st_nphot st_nrvc st_nspec  \\\n",
       "0  23-07-2014     2011-08  23-07-2014          2        1       2        0   \n",
       "1  14-05-2014     2008-01  14-05-2014          2        1       2        0   \n",
       "2  25-04-2018     2011-08  23-07-2014          0        1       1        0   \n",
       "3  04-09-2018     2017-03  06-09-2018          0        1       1        0   \n",
       "4  25-04-2018     2009-10  14-05-2014          0        1       1        0   \n",
       "\n",
       "  pl_nespec pl_ntranspec  \n",
       "0         0            0  \n",
       "1         0            0  \n",
       "2         0            0  \n",
       "3         0            0  \n",
       "4         0            0  \n",
       "\n",
       "[5 rows x 287 columns]"
      ]
     },
     "execution_count": 5,
     "metadata": {},
     "output_type": "execute_result"
    }
   ],
   "source": [
    "\n",
    "data.head()"
   ]
  },
  {
   "cell_type": "code",
   "execution_count": 6,
   "id": "1acdd87b",
   "metadata": {},
   "outputs": [
    {
     "data": {
      "text/html": [
       "<div>\n",
       "<style scoped>\n",
       "    .dataframe tbody tr th:only-of-type {\n",
       "        vertical-align: middle;\n",
       "    }\n",
       "\n",
       "    .dataframe tbody tr th {\n",
       "        vertical-align: top;\n",
       "    }\n",
       "\n",
       "    .dataframe thead th {\n",
       "        text-align: right;\n",
       "    }\n",
       "</style>\n",
       "<table border=\"1\" class=\"dataframe\">\n",
       "  <thead>\n",
       "    <tr style=\"text-align: right;\">\n",
       "      <th></th>\n",
       "      <th>rowid</th>\n",
       "      <th>pl_name</th>\n",
       "      <th>hostname</th>\n",
       "      <th>pl_letter</th>\n",
       "      <th>hd_name</th>\n",
       "      <th>hip_name</th>\n",
       "      <th>tic_id</th>\n",
       "      <th>gaia_id</th>\n",
       "      <th>default_flag</th>\n",
       "      <th>sy_snum</th>\n",
       "      <th>...</th>\n",
       "      <th>sy_kepmagerr2</th>\n",
       "      <th>rowupdate</th>\n",
       "      <th>pl_pubdate</th>\n",
       "      <th>releasedate</th>\n",
       "      <th>pl_nnotes</th>\n",
       "      <th>st_nphot</th>\n",
       "      <th>st_nrvc</th>\n",
       "      <th>st_nspec</th>\n",
       "      <th>pl_nespec</th>\n",
       "      <th>pl_ntranspec</th>\n",
       "    </tr>\n",
       "  </thead>\n",
       "  <tbody>\n",
       "    <tr>\n",
       "      <th>34941</th>\n",
       "      <td>34942</td>\n",
       "      <td>ups And c</td>\n",
       "      <td>ups And</td>\n",
       "      <td>c</td>\n",
       "      <td>HD 9826</td>\n",
       "      <td>HIP 7513</td>\n",
       "      <td>TIC 189576919</td>\n",
       "      <td>Gaia DR2 348020448377061376</td>\n",
       "      <td>0</td>\n",
       "      <td>2</td>\n",
       "      <td>...</td>\n",
       "      <td>NaN</td>\n",
       "      <td>24-04-2015</td>\n",
       "      <td>2009-03</td>\n",
       "      <td>24-04-2015</td>\n",
       "      <td>5</td>\n",
       "      <td>1</td>\n",
       "      <td>10</td>\n",
       "      <td>1</td>\n",
       "      <td>0</td>\n",
       "      <td>0</td>\n",
       "    </tr>\n",
       "    <tr>\n",
       "      <th>34942</th>\n",
       "      <td>34943</td>\n",
       "      <td>ups And d</td>\n",
       "      <td>ups And</td>\n",
       "      <td>d</td>\n",
       "      <td>HD 9826</td>\n",
       "      <td>HIP 7513</td>\n",
       "      <td>TIC 189576919</td>\n",
       "      <td>Gaia DR2 348020448377061376</td>\n",
       "      <td>0</td>\n",
       "      <td>2</td>\n",
       "      <td>...</td>\n",
       "      <td>NaN</td>\n",
       "      <td>20-09-2021</td>\n",
       "      <td>2021-05</td>\n",
       "      <td>20-09-2021</td>\n",
       "      <td>5</td>\n",
       "      <td>1</td>\n",
       "      <td>10</td>\n",
       "      <td>1</td>\n",
       "      <td>0</td>\n",
       "      <td>0</td>\n",
       "    </tr>\n",
       "    <tr>\n",
       "      <th>34943</th>\n",
       "      <td>34944</td>\n",
       "      <td>ups And d</td>\n",
       "      <td>ups And</td>\n",
       "      <td>d</td>\n",
       "      <td>HD 9826</td>\n",
       "      <td>HIP 7513</td>\n",
       "      <td>TIC 189576919</td>\n",
       "      <td>Gaia DR2 348020448377061376</td>\n",
       "      <td>0</td>\n",
       "      <td>2</td>\n",
       "      <td>...</td>\n",
       "      <td>NaN</td>\n",
       "      <td>03-08-2021</td>\n",
       "      <td>2010-06</td>\n",
       "      <td>03-08-2021</td>\n",
       "      <td>5</td>\n",
       "      <td>1</td>\n",
       "      <td>10</td>\n",
       "      <td>1</td>\n",
       "      <td>0</td>\n",
       "      <td>0</td>\n",
       "    </tr>\n",
       "    <tr>\n",
       "      <th>34944</th>\n",
       "      <td>34945</td>\n",
       "      <td>ups And d</td>\n",
       "      <td>ups And</td>\n",
       "      <td>d</td>\n",
       "      <td>HD 9826</td>\n",
       "      <td>HIP 7513</td>\n",
       "      <td>TIC 189576919</td>\n",
       "      <td>Gaia DR2 348020448377061376</td>\n",
       "      <td>0</td>\n",
       "      <td>2</td>\n",
       "      <td>...</td>\n",
       "      <td>NaN</td>\n",
       "      <td>24-04-2015</td>\n",
       "      <td>2009-03</td>\n",
       "      <td>24-04-2015</td>\n",
       "      <td>5</td>\n",
       "      <td>1</td>\n",
       "      <td>10</td>\n",
       "      <td>1</td>\n",
       "      <td>0</td>\n",
       "      <td>0</td>\n",
       "    </tr>\n",
       "    <tr>\n",
       "      <th>34945</th>\n",
       "      <td>34946</td>\n",
       "      <td>ups And d</td>\n",
       "      <td>ups And</td>\n",
       "      <td>d</td>\n",
       "      <td>HD 9826</td>\n",
       "      <td>HIP 7513</td>\n",
       "      <td>TIC 189576919</td>\n",
       "      <td>Gaia DR2 348020448377061376</td>\n",
       "      <td>1</td>\n",
       "      <td>2</td>\n",
       "      <td>...</td>\n",
       "      <td>NaN</td>\n",
       "      <td>28-01-2019</td>\n",
       "      <td>2011-01</td>\n",
       "      <td>31-01-2019</td>\n",
       "      <td>5</td>\n",
       "      <td>1</td>\n",
       "      <td>10</td>\n",
       "      <td>1</td>\n",
       "      <td>0</td>\n",
       "      <td>0</td>\n",
       "    </tr>\n",
       "    <tr>\n",
       "      <th>34946</th>\n",
       "      <td>34947</td>\n",
       "      <td>ups And d</td>\n",
       "      <td>ups And</td>\n",
       "      <td>d</td>\n",
       "      <td>HD 9826</td>\n",
       "      <td>HIP 7513</td>\n",
       "      <td>TIC 189576919</td>\n",
       "      <td>Gaia DR2 348020448377061376</td>\n",
       "      <td>0</td>\n",
       "      <td>2</td>\n",
       "      <td>...</td>\n",
       "      <td>NaN</td>\n",
       "      <td>18-09-2014</td>\n",
       "      <td>2007-01</td>\n",
       "      <td>18-09-2014</td>\n",
       "      <td>5</td>\n",
       "      <td>1</td>\n",
       "      <td>10</td>\n",
       "      <td>1</td>\n",
       "      <td>0</td>\n",
       "      <td>0</td>\n",
       "    </tr>\n",
       "    <tr>\n",
       "      <th>34947</th>\n",
       "      <td>34948</td>\n",
       "      <td>ups And d</td>\n",
       "      <td>ups And</td>\n",
       "      <td>d</td>\n",
       "      <td>HD 9826</td>\n",
       "      <td>HIP 7513</td>\n",
       "      <td>TIC 189576919</td>\n",
       "      <td>Gaia DR2 348020448377061376</td>\n",
       "      <td>0</td>\n",
       "      <td>2</td>\n",
       "      <td>...</td>\n",
       "      <td>NaN</td>\n",
       "      <td>21-08-2014</td>\n",
       "      <td>2004-01</td>\n",
       "      <td>21-08-2014</td>\n",
       "      <td>5</td>\n",
       "      <td>1</td>\n",
       "      <td>10</td>\n",
       "      <td>1</td>\n",
       "      <td>0</td>\n",
       "      <td>0</td>\n",
       "    </tr>\n",
       "    <tr>\n",
       "      <th>34948</th>\n",
       "      <td>34949</td>\n",
       "      <td>ups Leo b</td>\n",
       "      <td>ups Leo</td>\n",
       "      <td>b</td>\n",
       "      <td>NaN</td>\n",
       "      <td>NaN</td>\n",
       "      <td>TIC 49430557</td>\n",
       "      <td>Gaia DR2 3794167001116433152</td>\n",
       "      <td>1</td>\n",
       "      <td>1</td>\n",
       "      <td>...</td>\n",
       "      <td>NaN</td>\n",
       "      <td>10-01-2022</td>\n",
       "      <td>2021-12</td>\n",
       "      <td>10-01-2022</td>\n",
       "      <td>0</td>\n",
       "      <td>0</td>\n",
       "      <td>0</td>\n",
       "      <td>0</td>\n",
       "      <td>0</td>\n",
       "      <td>0</td>\n",
       "    </tr>\n",
       "    <tr>\n",
       "      <th>34949</th>\n",
       "      <td>34950</td>\n",
       "      <td>xi Aql b</td>\n",
       "      <td>xi Aql</td>\n",
       "      <td>b</td>\n",
       "      <td>HD 188310</td>\n",
       "      <td>HIP 97938</td>\n",
       "      <td>TIC 375464367</td>\n",
       "      <td>Gaia DR2 4298361114750843904</td>\n",
       "      <td>0</td>\n",
       "      <td>1</td>\n",
       "      <td>...</td>\n",
       "      <td>NaN</td>\n",
       "      <td>23-07-2014</td>\n",
       "      <td>2011-08</td>\n",
       "      <td>23-07-2014</td>\n",
       "      <td>1</td>\n",
       "      <td>1</td>\n",
       "      <td>1</td>\n",
       "      <td>0</td>\n",
       "      <td>0</td>\n",
       "      <td>0</td>\n",
       "    </tr>\n",
       "    <tr>\n",
       "      <th>34950</th>\n",
       "      <td>34951</td>\n",
       "      <td>xi Aql b</td>\n",
       "      <td>xi Aql</td>\n",
       "      <td>b</td>\n",
       "      <td>HD 188310</td>\n",
       "      <td>HIP 97938</td>\n",
       "      <td>TIC 375464367</td>\n",
       "      <td>Gaia DR2 4298361114750843904</td>\n",
       "      <td>1</td>\n",
       "      <td>1</td>\n",
       "      <td>...</td>\n",
       "      <td>NaN</td>\n",
       "      <td>14-05-2014</td>\n",
       "      <td>2008-06</td>\n",
       "      <td>14-05-2014</td>\n",
       "      <td>1</td>\n",
       "      <td>1</td>\n",
       "      <td>1</td>\n",
       "      <td>0</td>\n",
       "      <td>0</td>\n",
       "      <td>0</td>\n",
       "    </tr>\n",
       "  </tbody>\n",
       "</table>\n",
       "<p>10 rows × 287 columns</p>\n",
       "</div>"
      ],
      "text/plain": [
       "       rowid    pl_name hostname pl_letter    hd_name   hip_name  \\\n",
       "34941  34942  ups And c  ups And         c    HD 9826   HIP 7513   \n",
       "34942  34943  ups And d  ups And         d    HD 9826   HIP 7513   \n",
       "34943  34944  ups And d  ups And         d    HD 9826   HIP 7513   \n",
       "34944  34945  ups And d  ups And         d    HD 9826   HIP 7513   \n",
       "34945  34946  ups And d  ups And         d    HD 9826   HIP 7513   \n",
       "34946  34947  ups And d  ups And         d    HD 9826   HIP 7513   \n",
       "34947  34948  ups And d  ups And         d    HD 9826   HIP 7513   \n",
       "34948  34949  ups Leo b  ups Leo         b        NaN        NaN   \n",
       "34949  34950   xi Aql b   xi Aql         b  HD 188310  HIP 97938   \n",
       "34950  34951   xi Aql b   xi Aql         b  HD 188310  HIP 97938   \n",
       "\n",
       "              tic_id                       gaia_id  default_flag  sy_snum  \\\n",
       "34941  TIC 189576919   Gaia DR2 348020448377061376             0        2   \n",
       "34942  TIC 189576919   Gaia DR2 348020448377061376             0        2   \n",
       "34943  TIC 189576919   Gaia DR2 348020448377061376             0        2   \n",
       "34944  TIC 189576919   Gaia DR2 348020448377061376             0        2   \n",
       "34945  TIC 189576919   Gaia DR2 348020448377061376             1        2   \n",
       "34946  TIC 189576919   Gaia DR2 348020448377061376             0        2   \n",
       "34947  TIC 189576919   Gaia DR2 348020448377061376             0        2   \n",
       "34948   TIC 49430557  Gaia DR2 3794167001116433152             1        1   \n",
       "34949  TIC 375464367  Gaia DR2 4298361114750843904             0        1   \n",
       "34950  TIC 375464367  Gaia DR2 4298361114750843904             1        1   \n",
       "\n",
       "       ...  sy_kepmagerr2   rowupdate  pl_pubdate releasedate  pl_nnotes  \\\n",
       "34941  ...            NaN  24-04-2015     2009-03  24-04-2015          5   \n",
       "34942  ...            NaN  20-09-2021     2021-05  20-09-2021          5   \n",
       "34943  ...            NaN  03-08-2021     2010-06  03-08-2021          5   \n",
       "34944  ...            NaN  24-04-2015     2009-03  24-04-2015          5   \n",
       "34945  ...            NaN  28-01-2019     2011-01  31-01-2019          5   \n",
       "34946  ...            NaN  18-09-2014     2007-01  18-09-2014          5   \n",
       "34947  ...            NaN  21-08-2014     2004-01  21-08-2014          5   \n",
       "34948  ...            NaN  10-01-2022     2021-12  10-01-2022          0   \n",
       "34949  ...            NaN  23-07-2014     2011-08  23-07-2014          1   \n",
       "34950  ...            NaN  14-05-2014     2008-06  14-05-2014          1   \n",
       "\n",
       "      st_nphot st_nrvc st_nspec pl_nespec pl_ntranspec  \n",
       "34941        1      10        1         0            0  \n",
       "34942        1      10        1         0            0  \n",
       "34943        1      10        1         0            0  \n",
       "34944        1      10        1         0            0  \n",
       "34945        1      10        1         0            0  \n",
       "34946        1      10        1         0            0  \n",
       "34947        1      10        1         0            0  \n",
       "34948        0       0        0         0            0  \n",
       "34949        1       1        0         0            0  \n",
       "34950        1       1        0         0            0  \n",
       "\n",
       "[10 rows x 287 columns]"
      ]
     },
     "execution_count": 6,
     "metadata": {},
     "output_type": "execute_result"
    }
   ],
   "source": [
    "data.tail(10)"
   ]
  },
  {
   "cell_type": "code",
   "execution_count": 10,
   "id": "bee1eed6",
   "metadata": {},
   "outputs": [
    {
     "data": {
      "image/png": "[encoded data removed]",
      "text/plain": [
       "<Figure size 1000x500 with 1 Axes>"
      ]
     },
     "metadata": {},
     "output_type": "display_data"
    },
    {
     "data": {
      "image/png": "[encoded data removed]",
      "text/plain": [
       "<Figure size 1000x500 with 1 Axes>"
      ]
     },
     "metadata": {},
     "output_type": "display_data"
    }
   ],
   "source": [
    "import matplotlib.pyplot as plt\n",
    "\n",
    "# Scatter plot for size (radius)\n",
    "plt.figure(figsize=(10, 5))\n",
    "plt.scatter(data['pl_radj'], data['st_rad'])\n",
    "plt.xlabel('Planet Radius (in Jupiter Radii)')\n",
    "plt.ylabel('Star Radius (in Solar Radii)')\n",
    "plt.title('Scatter plot of Planet Radius vs Star Radius')\n",
    "plt.show()\n",
    "\n",
    "# Scatter plot for mass\n",
    "plt.figure(figsize=(10, 5))\n",
    "plt.scatter(data['pl_bmassj'], data['st_mass'])\n",
    "plt.xlabel('Planet Mass (in Jupiter Masses)')\n",
    "plt.ylabel('Star Mass (in Solar Masses)')\n",
    "plt.title('Scatter plot of Planet Mass vs Star Mass')\n",
    "\n",
    "plt.show()\n"
   ]
  },
  {
   "cell_type": "markdown",
   "id": "50338df2",
   "metadata": {},
   "source": [
    "# Calculate and print Pearson correlation coefficients\n"
   ]
  },
  {
   "cell_type": "code",
   "execution_count": 11,
   "id": "910951fb",
   "metadata": {},
   "outputs": [
    {
     "name": "stdout",
     "output_type": "stream",
     "text": [
      "Correlation between planet radius and star radius: 0.37296213546254503\n",
      "Correlation between planet mass and star mass: 0.2576238130056745\n"
     ]
    }
   ],
   "source": [
    "print(\"Correlation between planet radius and star radius:\", data['pl_radj'].corr(data['st_rad']))\n",
    "print(\"Correlation between planet mass and star mass:\", data['pl_bmassj'].corr(data['st_mass']))"
   ]
  },
  {
   "cell_type": "code",
   "execution_count": 12,
   "id": "e4e5279c",
   "metadata": {},
   "outputs": [],
   "source": [
    "# Import necessary libraries\n",
    "import torch\n",
    "from torch.nn import Linear, Sigmoid, Module\n",
    "import torch.optim as optim\n",
    "import torch.nn.functional as F\n",
    "from sklearn.model_selection import train_test_split\n",
    "from sklearn.preprocessing import StandardScaler"
   ]
  },
  {
   "cell_type": "markdown",
   "id": "07d885b5",
   "metadata": {},
   "source": [
    "# Preprocessing the data"
   ]
  },
  {
   "cell_type": "markdown",
   "id": "532f9347",
   "metadata": {},
   "source": [
    "# Drop any rows with missing values in the planet or star mass columns"
   ]
  },
  {
   "cell_type": "code",
   "execution_count": 13,
   "id": "434da328",
   "metadata": {},
   "outputs": [],
   "source": [
    "\n",
    "data = data.dropna(subset=['pl_bmassj', 'st_mass'])\n"
   ]
  },
  {
   "cell_type": "markdown",
   "id": "bc96c57c",
   "metadata": {},
   "source": [
    "# Extracting the features and target"
   ]
  },
  {
   "cell_type": "code",
   "execution_count": 14,
   "id": "cb9cb47d",
   "metadata": {},
   "outputs": [],
   "source": [
    "X = data['pl_bmassj'].values.reshape(-1, 1)\n",
    "y = data['st_mass'].values.reshape(-1, 1)"
   ]
  },
  {
   "cell_type": "markdown",
   "id": "48edcf64",
   "metadata": {},
   "source": [
    "# Scaling the features and target"
   ]
  },
  {
   "cell_type": "code",
   "execution_count": 15,
   "id": "a06b61c6",
   "metadata": {},
   "outputs": [],
   "source": [
    "scaler_X = StandardScaler()\n",
    "scaler_y = StandardScaler()\n",
    "X = scaler_X.fit_transform(X)\n",
    "y = scaler_y.fit_transform(y)"
   ]
  },
  {
   "cell_type": "markdown",
   "id": "65f363ac",
   "metadata": {},
   "source": [
    "# Spliting the data into training and testing sets"
   ]
  },
  {
   "cell_type": "code",
   "execution_count": 17,
   "id": "9578f3cf",
   "metadata": {},
   "outputs": [],
   "source": [
    "X_train, X_test, y_train, y_test = train_test_split(X, y, test_size=0.2, random_state=42)\n"
   ]
  },
  {
   "cell_type": "markdown",
   "id": "fb1d8153",
   "metadata": {},
   "source": [
    "# Converting the data to PyTorch tensors"
   ]
  },
  {
   "cell_type": "code",
   "execution_count": 18,
   "id": "08c870c7",
   "metadata": {},
   "outputs": [],
   "source": [
    "X_train = torch.tensor(X_train, dtype=torch.float)\n",
    "y_train = torch.tensor(y_train, dtype=torch.float)\n",
    "X_test = torch.tensor(X_test, dtype=torch.float)\n",
    "y_test = torch.tensor(y_test, dtype=torch.float)"
   ]
  },
  {
   "cell_type": "markdown",
   "id": "7cdd1463",
   "metadata": {},
   "source": [
    "# Linear Regression Model"
   ]
  },
  {
   "cell_type": "code",
   "execution_count": 19,
   "id": "05fbc037",
   "metadata": {},
   "outputs": [],
   "source": [
    "class LinearRegressionModel(Module):\n",
    "    def __init__(self):\n",
    "        super(LinearRegressionModel, self).__init__()\n",
    "        self.linear = Linear(1, 1)\n",
    "        self.sigmoid = Sigmoid()\n",
    "\n",
    "    def forward(self, x):\n",
    "        x = self.linear(x)\n",
    "        x = self.sigmoid(x)\n",
    "        return x\n",
    "\n",
    "model = LinearRegressionModel()"
   ]
  },
  {
   "cell_type": "code",
   "execution_count": 20,
   "id": "cfedffa1",
   "metadata": {},
   "outputs": [],
   "source": [
    "optimizer = optim.SGD(model.parameters(), lr=0.01)\n",
    "loss_fn = F.mse_loss"
   ]
  },
  {
   "cell_type": "code",
   "execution_count": 21,
   "id": "e20e0064",
   "metadata": {},
   "outputs": [
    {
     "name": "stdout",
     "output_type": "stream",
     "text": [
      "Epoch 0, Loss: 1.3732342720031738\n",
      "Epoch 10, Loss: 1.3642042875289917\n",
      "Epoch 20, Loss: 1.3553391695022583\n",
      "Epoch 30, Loss: 1.3466465473175049\n",
      "Epoch 40, Loss: 1.338132381439209\n",
      "Epoch 50, Loss: 1.3298025131225586\n",
      "Epoch 60, Loss: 1.3216607570648193\n",
      "Epoch 70, Loss: 1.313711166381836\n",
      "Epoch 80, Loss: 1.305956482887268\n",
      "Epoch 90, Loss: 1.2983981370925903\n"
     ]
    }
   ],
   "source": [
    "epochs = 100\n",
    "for epoch in range(epochs):\n",
    "    model.train()\n",
    "    optimizer.zero_grad()\n",
    "    y_pred = model(X_train)\n",
    "    loss = loss_fn(y_pred, y_train)\n",
    "    loss.backward()\n",
    "    optimizer.step()\n",
    "    if epoch % 10 == 0:\n",
    "        print(f'Epoch {epoch}, Loss: {loss.item()}')"
   ]
  },
  {
   "cell_type": "markdown",
   "id": "9ac85b63",
   "metadata": {},
   "source": [
    "# Evaluating the model"
   ]
  },
  {
   "cell_type": "code",
   "execution_count": 22,
   "id": "39bc9f97",
   "metadata": {},
   "outputs": [
    {
     "name": "stdout",
     "output_type": "stream",
     "text": [
      "Test Loss: 0.9784868955612183\n"
     ]
    }
   ],
   "source": [
    "model.eval()\n",
    "y_pred_test = model(X_test)\n",
    "test_loss = loss_fn(y_pred_test, y_test)\n",
    "print(f'Test Loss: {test_loss.item()}')"
   ]
  },
  {
   "cell_type": "code",
   "execution_count": 23,
   "id": "99fe245c",
   "metadata": {},
   "outputs": [],
   "source": [
    "import matplotlib.pyplot as plt\n",
    "import numpy as np\n"
   ]
  },
  {
   "cell_type": "markdown",
   "id": "2e127f9b",
   "metadata": {},
   "source": [
    "# Generating a range of x values from the minimum to the maximum x value"
   ]
  },
  {
   "cell_type": "code",
   "execution_count": 24,
   "id": "b6564643",
   "metadata": {},
   "outputs": [],
   "source": [
    "x_range = np.linspace(X.min(), X.max(), 100).reshape(-1, 1)\n"
   ]
  },
  {
   "cell_type": "markdown",
   "id": "8fa2ea15",
   "metadata": {},
   "source": [
    "# Converting the x values to a tensor"
   ]
  },
  {
   "cell_type": "code",
   "execution_count": 26,
   "id": "e03ec16b",
   "metadata": {},
   "outputs": [],
   "source": [
    "x_range_tensor = torch.tensor(x_range, dtype=torch.float)\n"
   ]
  },
  {
   "cell_type": "markdown",
   "id": "b70dadc3",
   "metadata": {},
   "source": [
    "# Making predictions using the model"
   ]
  },
  {
   "cell_type": "code",
   "execution_count": 27,
   "id": "4a5b0efb",
   "metadata": {},
   "outputs": [],
   "source": [
    "model.eval()\n",
    "y_range_pred = model(x_range_tensor).detach().numpy()"
   ]
  },
  {
   "cell_type": "markdown",
   "id": "42b0e0bd",
   "metadata": {},
   "source": [
    "# Rescaling the data"
   ]
  },
  {
   "cell_type": "code",
   "execution_count": 28,
   "id": "51b7cb12",
   "metadata": {},
   "outputs": [],
   "source": [
    "x_range_rescaled = scaler_X.inverse_transform(x_range)\n",
    "y_range_pred_rescaled = scaler_y.inverse_transform(y_range_pred)"
   ]
  },
  {
   "cell_type": "markdown",
   "id": "58228783",
   "metadata": {},
   "source": [
    "# Scatter plot of the original data"
   ]
  },
  {
   "cell_type": "code",
   "execution_count": 33,
   "id": "47076ee6",
   "metadata": {},
   "outputs": [
    {
     "data": {
      "image/png": "[encoded data removed]",
      "text/plain": [
       "<Figure size 640x480 with 1 Axes>"
      ]
     },
     "metadata": {},
     "output_type": "display_data"
    }
   ],
   "source": [
    "plt.scatter(scaler_X.inverse_transform(X_test[:100]), scaler_y.inverse_transform(y_test[:100]), label='Original data')\n",
    "\n",
    "# Line plot of the model's predictions\n",
    "plt.plot(x_range_rescaled, y_range_pred_rescaled, color='red', label='Model')\n",
    "\n",
    "# Labels and legend\n",
    "plt.xlabel('Planet Mass (in Jupiter Masses)')\n",
    "plt.ylabel('Star Mass (in Solar Masses)')\n",
    "plt.legend()\n",
    "plt.show()"
   ]
  },
  {
   "cell_type": "code",
   "execution_count": 34,
   "id": "d3f33b77",
   "metadata": {},
   "outputs": [],
   "source": [
    "# end"
   ]
  },
  {
   "cell_type": "code",
   "execution_count": null,
   "id": "850b3a21",
   "metadata": {},
   "outputs": [],
   "source": []
  }
 ],
 "metadata": {
  "kernelspec": {
   "display_name": "Python 3 (ipykernel)",
   "language": "python",
   "name": "python3"
  },
  "language_info": {
   "codemirror_mode": {
    "name": "ipython",
    "version": 3
   },
   "file_extension": ".py",
   "mimetype": "text/x-python",
   "name": "python",
   "nbconvert_exporter": "python",
   "pygments_lexer": "ipython3",
   "version": "3.10.9"
  }
 },
 "nbformat": 4,
 "nbformat_minor": 5
}
